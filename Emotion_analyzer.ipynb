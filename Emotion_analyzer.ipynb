{
 "cells": [
  {
   "cell_type": "code",
   "execution_count": 5,
   "metadata": {},
   "outputs": [
    {
     "name": "stdout",
     "output_type": "stream",
     "text": [
      "[nltk_data] Downloading package stopwords to\n",
      "[nltk_data]     C:\\Users\\Rishabh\\AppData\\Roaming\\nltk_data...\n",
      "[nltk_data]   Package stopwords is already up-to-date!\n",
      "Say something!\n",
      "You said: I am happy\n",
      "['joy']\n",
      "joy\n"
     ]
    }
   ],
   "source": [
    "import nltk\n",
    "import speech_recognition as sr\n",
    "import re\n",
    "import pandas as pd\n",
    "from nltk.stem import PorterStemmer\n",
    "from collections import defaultdict\n",
    "nltk.download('stopwords')\n",
    "from nltk.corpus import stopwords\n",
    "\n",
    "def rem_stopw(s):\n",
    "    final=[]\n",
    "    s = s.lower()\n",
    "    s = re.sub(\"[^a-zA-Z]\", \" \", s)\n",
    "    stops = set(stopwords.words(\"english\"))\n",
    "    for a in s.split():\n",
    "        if not a in stops:\n",
    "            final.append(a)\n",
    "    return final\n",
    "\n",
    "df = pd.read_csv(r\"C:\\Users\\Rishabh\\Desktop\\emotions.csv\",header=None)\n",
    "X=df[0]\n",
    "y=df[1]\n",
    "stem_dict={}\n",
    "stemmer = PorterStemmer()\n",
    "for i in range(X.shape[0]):\n",
    "    stem_word = stemmer.stem(X[i])\n",
    "    stem_dict[stem_word]=y[i]\n",
    "r = sr.Recognizer()\n",
    "with sr.Microphone() as source:\n",
    "    print(\"Say something!\")\n",
    "    audio = r.listen(source)\n",
    "try:\n",
    "    print(\"You said: \" + r.recognize_google(audio))\n",
    "except sr.UnknownValueError:\n",
    "    print(\"Google Speech Recognition could not understand audio\")\n",
    "except sr.RequestError as e:\n",
    "    print(\"Could not request results from Google Speech Recognition service; {0}\".format(e))\n",
    "sent_to_pred =r.recognize_google(audio)\n",
    "\n",
    "sent_to_pred =rem_stopw(sent_to_pred)\n",
    "\n",
    "\n",
    "\n",
    "sent_to_pred2 = [stemmer.stem(i) for i in sent_to_pred]\n",
    "emt=[]\n",
    "for i in sent_to_pred2:\n",
    "    try:\n",
    "        emt.append(stem_dict[i])\n",
    "    except:\n",
    "        print(\"\")\n",
    "print(emt)\n",
    "d = defaultdict(int)\n",
    "for i in emt:\n",
    "    d[i] += 1\n",
    "result = max(d.items(), key=lambda x: x[1])\n",
    "print(result[0])\n"
   ]
  },
  {
   "cell_type": "code",
   "execution_count": null,
   "metadata": {},
   "outputs": [],
   "source": []
  }
 ],
 "metadata": {
  "kernelspec": {
   "display_name": "Python 3",
   "language": "python",
   "name": "python3"
  },
  "language_info": {
   "codemirror_mode": {
    "name": "ipython",
    "version": 3
   },
   "file_extension": ".py",
   "mimetype": "text/x-python",
   "name": "python",
   "nbconvert_exporter": "python",
   "pygments_lexer": "ipython3",
   "version": "3.7.0"
  }
 },
 "nbformat": 4,
 "nbformat_minor": 2
}
